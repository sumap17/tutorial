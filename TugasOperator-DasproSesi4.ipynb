{
 "cells": [
  {
   "cell_type": "markdown",
   "id": "a1aa777e-62e6-41c7-b2bf-576908714eb1",
   "metadata": {},
   "source": [
    "1. Operator Aritmatika"
   ]
  },
  {
   "cell_type": "code",
   "execution_count": 13,
   "id": "0b4487e3-748c-4fdf-8244-9ba4bf62ec7b",
   "metadata": {},
   "outputs": [
    {
     "name": "stdout",
     "output_type": "stream",
     "text": [
      "Setiap Teman Menerima 3.0 apel.\n",
      "Total apel budi sekarang: 20\n"
     ]
    }
   ],
   "source": [
    "budiApel = 12\n",
    "teman = 4\n",
    "ApelPerTeman = budiApel / teman\n",
    "print(f\"Setiap Teman Menerima {ApelPerTeman} apel.\")\n",
    "\n",
    "budiApel += 8\n",
    "print(f\"Total apel budi sekarang: {budiApel}\")"
   ]
  },
  {
   "cell_type": "markdown",
   "id": "b2a36592-9c58-4de2-afe2-a704c23851ab",
   "metadata": {},
   "source": [
    "2. Operator Perbandingan"
   ]
  },
  {
   "cell_type": "code",
   "execution_count": 75,
   "id": "7882e59a-bab8-4bab-b9f7-338374c4225d",
   "metadata": {},
   "outputs": [
    {
     "name": "stdin",
     "output_type": "stream",
     "text": [
      "Masukan tinggi badan siti (cm): 160\n",
      "Masukan tinggi badan andi (cm):  165\n"
     ]
    },
    {
     "name": "stdout",
     "output_type": "stream",
     "text": [
      "siti lebih tinggi dari andi:  False\n",
      "Andi lebih tinggi dari siti:  True\n"
     ]
    }
   ],
   "source": [
    "tinggiSiti = 160\n",
    "tinggiAndi = 165\n",
    "print(\"siti lebih tinggi dari andi: \" , tinggiSiti > tinggiAndi)\n",
    "print(\"Andi lebih tinggi dari siti: \" , tinggiAndi > tinggiSiti)"
   ]
  },
  {
   "cell_type": "markdown",
   "id": "dc57c15c-fc96-469c-8c6c-7bec8c0c7629",
   "metadata": {},
   "source": [
    "3. Operator Logika"
   ]
  },
  {
   "cell_type": "code",
   "execution_count": 63,
   "id": "52c30764-c39f-4e96-94b7-af0757981fc4",
   "metadata": {},
   "outputs": [
    {
     "name": "stdin",
     "output_type": "stream",
     "text": [
      "Apakah cuaca cerah? (ya/tidak):  ya\n",
      "Apakah pr sudah selesai? )ya/tidak:  ya\n"
     ]
    },
    {
     "name": "stdout",
     "output_type": "stream",
     "text": [
      "Budi bisa bermain:  True\n"
     ]
    }
   ],
   "source": [
    "cuacaCerah = input(\"Apakah cuaca cerah? (ya/tidak): \").lower()==\"ya\"\n",
    "prSelesai = input(\"Apakah pr sudah selesai? )ya/tidak: \").lower()==\"ya\"\n",
    "bisaBermain = cuacaCerah and prSelesai\n",
    "print(\"Budi bisa bermain: \", bisaBermain)"
   ]
  },
  {
   "cell_type": "markdown",
   "id": "c2ca2ac8-2477-4f79-9d67-f07d007a5b38",
   "metadata": {},
   "source": [
    "4. Operator Bitwise"
   ]
  },
  {
   "cell_type": "code",
   "execution_count": 29,
   "id": "e099969b-bd5c-4a50-a4c8-9b90b711d865",
   "metadata": {},
   "outputs": [
    {
     "name": "stdout",
     "output_type": "stream",
     "text": [
      "AND:  2\n",
      "OR:  7\n",
      "XOR:  5\n"
     ]
    }
   ],
   "source": [
    "angka1 = 6 #0110\n",
    "angka2 = 3 #0011\n",
    "print(\"AND: \", angka1 & angka2) #0010 -> 2\n",
    "print(\"OR: \", angka1 | angka2) #0111 -> 7\n",
    "print(\"XOR: \", angka1 ^ angka2) #0101 -> 5"
   ]
  },
  {
   "cell_type": "markdown",
   "id": "ae90437f-eda8-47b3-8482-f0f70e2f09da",
   "metadata": {},
   "source": [
    "5. Operator Penugasan"
   ]
  },
  {
   "cell_type": "code",
   "execution_count": 32,
   "id": "22d0730c-3fcf-42f0-bd21-46504bddaa10",
   "metadata": {},
   "outputs": [
    {
     "name": "stdout",
     "output_type": "stream",
     "text": [
      "sisa saldo pulsa: Rp40000\n"
     ]
    }
   ],
   "source": [
    "saldoPulsa = 50000\n",
    "saldoPulsa += 20000  #isi ulang\n",
    "saldoPulsa -= 30000  #beli paket internet\n",
    "print(f\"sisa saldo pulsa: Rp{saldoPulsa}\")"
   ]
  },
  {
   "cell_type": "markdown",
   "id": "af5370a9-cb16-4567-9518-c4a6aca0a5f8",
   "metadata": {},
   "source": [
    "6. Operator Keanggotaan"
   ]
  },
  {
   "cell_type": "code",
   "execution_count": 43,
   "id": "0e1a74fe-1ac5-43c0-9dc1-ba33d97b4d23",
   "metadata": {},
   "outputs": [
    {
     "name": "stdout",
     "output_type": "stream",
     "text": [
      "Apakah Eka terdaftar sebagai peserta? False\n",
      "Apakah python ada pada kalimat tersebut? True\n"
     ]
    }
   ],
   "source": [
    "peserta = [\"Andi\",\"Budi\",\"Citra\",\"Dewi\"]\n",
    "print(\"Apakah Eka terdaftar sebagai peserta?\", \"Eka\" in peserta)\n",
    "\n",
    "kalimat = \"Saya suka belajar python\"\n",
    "print(\"Apakah python ada pada kalimat tersebut?\", \"python\" in kalimat)"
   ]
  },
  {
   "cell_type": "markdown",
   "id": "0cc73069-458a-4bb3-9957-115feb2153f2",
   "metadata": {},
   "source": [
    "7. Operator Identitas"
   ]
  },
  {
   "cell_type": "code",
   "execution_count": null,
   "id": "07d58b75-df39-48e9-bade-de7c855d9340",
   "metadata": {},
   "outputs": [],
   "source": [
    "x = int(input(\"masukan angka untuk x: \"))\n",
    "y = int(input(\"masukan angka untuk y: \"))\n",
    "print(\"Apakah x dan y merujuk ke objek yang sama?\", x is y)\n",
    "\n",
    "list1 =[1, 2, 3]\n",
    "list2 =[1, 2, 3]\n",
    "print(\"Apakah list1 dan list2 merujuk ke objek yang sama?\", list1 is list2)"
   ]
  },
  {
   "cell_type": "markdown",
   "id": "bd2da7f1-76d5-4b90-808e-a9b2ba677e76",
   "metadata": {},
   "source": [
    "8. Operator Ternary"
   ]
  },
  {
   "cell_type": "code",
   "execution_count": 61,
   "id": "0d49576f-c5db-4a3e-af95-ddcd89395c79",
   "metadata": {},
   "outputs": [
    {
     "name": "stdin",
     "output_type": "stream",
     "text": [
      "Isikan angka:  120\n"
     ]
    },
    {
     "name": "stdout",
     "output_type": "stream",
     "text": [
      "Lebih dari 100\n"
     ]
    },
    {
     "name": "stdin",
     "output_type": "stream",
     "text": [
      "isikan Nilai Ujian 87\n"
     ]
    },
    {
     "name": "stdout",
     "output_type": "stream",
     "text": [
      "Lulus\n"
     ]
    }
   ],
   "source": [
    "angka = int(input(\"Isikan angka: \"))\n",
    "hasil = \"Lebih dari 100\" if angka > 100 else \"Tidak lebih dari 100\"\n",
    "print(hasil)\n",
    "\n",
    "nilaiUjian = int(input(\"isikan Nilai Ujian\"))\n",
    "status = \"Lulus\" if nilaiUjian >= 70 else \"Tidak Lulus\"\n",
    "print(status)"
   ]
  },
  {
   "cell_type": "code",
   "execution_count": null,
   "id": "e27f2432-1ff5-40f2-abce-fb0493da1f16",
   "metadata": {},
   "outputs": [],
   "source": []
  }
 ],
 "metadata": {
  "kernelspec": {
   "display_name": "Python [conda env:base] *",
   "language": "python",
   "name": "conda-base-py"
  },
  "language_info": {
   "codemirror_mode": {
    "name": "ipython",
    "version": 3
   },
   "file_extension": ".py",
   "mimetype": "text/x-python",
   "name": "python",
   "nbconvert_exporter": "python",
   "pygments_lexer": "ipython3",
   "version": "3.12.7"
  }
 },
 "nbformat": 4,
 "nbformat_minor": 5
}

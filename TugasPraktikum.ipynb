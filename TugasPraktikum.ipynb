{
 "cells": [
  {
   "cell_type": "code",
   "execution_count": 35,
   "id": "5dbb5956-8b61-4a95-b3ce-a41c6d606d6c",
   "metadata": {},
   "outputs": [],
   "source": [
    "import Convert.convert as cv\n",
    "import Mathematic.math as mt"
   ]
  },
  {
   "cell_type": "code",
   "execution_count": 37,
   "id": "eb1bba6b-edf0-4b71-96af-d1a70121262f",
   "metadata": {},
   "outputs": [
    {
     "name": "stdout",
     "output_type": "stream",
     "text": [
      "\n",
      "    1. Convert\n",
      "    2. Mathematic\n",
      "    3. Exit\n",
      "    \n"
     ]
    },
    {
     "name": "stdin",
     "output_type": "stream",
     "text": [
      "isikan Pilihan:  2\n"
     ]
    },
    {
     "name": "stdout",
     "output_type": "stream",
     "text": [
      "\n",
      "    1. Pangkat\n",
      "    2. Tambah\n",
      "    3. Kurang\n",
      "    4. Kali\n",
      "    5. Bagi\n",
      "    6. Keluar\n",
      "    \n"
     ]
    },
    {
     "name": "stdin",
     "output_type": "stream",
     "text": [
      "Pilih Fitur:  4\n",
      "isikan angka 1:  2\n",
      "isikan angka 2:  3\n"
     ]
    },
    {
     "name": "stdout",
     "output_type": "stream",
     "text": [
      "Hasil perkalian 2 dan 3 : 6\n",
      "\n",
      "    1. Convert\n",
      "    2. Mathematic\n",
      "    3. Exit\n",
      "    \n"
     ]
    },
    {
     "name": "stdin",
     "output_type": "stream",
     "text": [
      "isikan Pilihan:  3\n"
     ]
    },
    {
     "name": "stdout",
     "output_type": "stream",
     "text": [
      "Thank You !!!\n"
     ]
    }
   ],
   "source": [
    "def menuUtama():\n",
    "    print(\"\"\"\n",
    "    1. Convert\n",
    "    2. Mathematic\n",
    "    3. Exit\n",
    "    \"\"\")\n",
    "\n",
    "def menuConvert():\n",
    "    print(\"\"\"\n",
    "    1. CM to Meter\n",
    "    2. Meter to CM\n",
    "    3. Exit\n",
    "    \"\"\")\n",
    "\n",
    "def menuMathematic():\n",
    "    print(\"\"\"\n",
    "    1. Pangkat\n",
    "    2. Tambah\n",
    "    3. Kurang\n",
    "    4. Kali\n",
    "    5. Bagi\n",
    "    6. Keluar\n",
    "    \"\"\")\n",
    "\n",
    "while True:\n",
    "    menuUtama()\n",
    "    pilihMenu = int(input(\"isikan Pilihan: \"))\n",
    "    if pilihMenu == 1:\n",
    "        menuConvert()\n",
    "        pilihFitur = int(input(\"Pilih Fitur: \"))\n",
    "        if pilihFitur == 1:\n",
    "            pjgCM = int(input(\"Isikan panjang (cm) : \"))\n",
    "            pjgMt = cv.cmToMeter(pjgCM)\n",
    "            print(f\"Panjang dalam meter : {pjgMt}\")\n",
    "        elif pilihFitur == 2:\n",
    "            pjgMt = int(input(\"Isikan panjang (Meter) : \"))\n",
    "            pjgCM = cv.meterToCm(pjgMt)\n",
    "            print(f\"Panjang dalam centimeter : {pjgCM}\")\n",
    "        else:\n",
    "            print(\"Thank You !!!\")\n",
    "            break\n",
    "    elif pilihMenu == 2:\n",
    "        menuMathematic()\n",
    "        pilihFitur = int(input(\"Pilih Fitur: \"))\n",
    "        if pilihFitur == 1:\n",
    "            angka1 = int(input(\"isikan angka 1: \"))\n",
    "            angka2 = int(input(\"isikan angka 2: \"))\n",
    "            pow = mt.powNumber(angka1,angka2)\n",
    "            print(f\"Hasil pangkat {angka1} dan {angka2} : {pow}\")\n",
    "        elif pilihFitur == 2:\n",
    "            angka1 = int(input(\"isikan angka 1: \"))\n",
    "            angka2 = int(input(\"isikan angka 2: \"))\n",
    "            add = mt.addNumber(angka1,angka2)\n",
    "            print(f\"Hasil penjumlahan {angka1} dan {angka2} : {add}\")\n",
    "        elif pilihFitur == 3:\n",
    "            angka1 = int(input(\"isikan angka 1: \"))\n",
    "            angka2 = int(input(\"isikan angka 2: \"))\n",
    "            sub = mt.subNumber(angka1,angka2)\n",
    "            print(f\"Hasil pengurangan {angka1} dan {angka2} : {sub}\")\n",
    "        elif pilihFitur == 4:\n",
    "            angka1 = int(input(\"isikan angka 1: \"))\n",
    "            angka2 = int(input(\"isikan angka 2: \"))\n",
    "            mul = mt.mulNumber(angka1,angka2)\n",
    "            print(f\"Hasil perkalian {angka1} dan {angka2} : {mul}\")\n",
    "        elif pilihFitur == 5:\n",
    "            angka1 = int(input(\"isikan angka 1: \"))\n",
    "            angka2 = int(input(\"isikan angka 2: \"))\n",
    "            div = mt.divNumber(angka1,angka2)\n",
    "            print(f\"Hasil pangkat {angka1} dan {angka2} : {div}\")\n",
    "        else:\n",
    "            print(\"Thank You !!!\")\n",
    "            break\n",
    "    else:\n",
    "        print(\"Thank You !!!\")\n",
    "        break"
   ]
  },
  {
   "cell_type": "code",
   "execution_count": null,
   "id": "ab7f0d48-8884-4d64-b2da-cb9f6cd92dfb",
   "metadata": {},
   "outputs": [],
   "source": []
  }
 ],
 "metadata": {
  "kernelspec": {
   "display_name": "Python [conda env:base] *",
   "language": "python",
   "name": "conda-base-py"
  },
  "language_info": {
   "codemirror_mode": {
    "name": "ipython",
    "version": 3
   },
   "file_extension": ".py",
   "mimetype": "text/x-python",
   "name": "python",
   "nbconvert_exporter": "python",
   "pygments_lexer": "ipython3",
   "version": "3.12.7"
  }
 },
 "nbformat": 4,
 "nbformat_minor": 5
}

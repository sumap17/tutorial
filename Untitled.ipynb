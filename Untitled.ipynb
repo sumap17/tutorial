{
 "cells": [
  {
   "cell_type": "code",
   "execution_count": 42,
   "id": "72944e51-7a3c-43f7-8897-a60c0dfff465",
   "metadata": {},
   "outputs": [
    {
     "name": "stdout",
     "output_type": "stream",
     "text": [
      "UKA ATNIC UMAK\n",
      "PYTHON HARI BELAJAR SEDANG INI\n",
      "Ak|_| C1nt4 K4m|_|\n",
      "4ku Cinta Kamu\n"
     ]
    }
   ],
   "source": [
    "def reverse_per_kata(kalimat):\n",
    "    kata_kata = kalimat.split()\n",
    "    hasil = [kata[::-1] for kata in kata_kata]\n",
    "    return ' '.join(hasil)\n",
    "\n",
    "def urutkan_kalimat(kalimat, urutan):\n",
    "    # Pisah kalimat menjadi list kata\n",
    "    kata_list = kalimat.split()\n",
    "    hasil = [None] * len(kata_list)\n",
    "    for i, posisi_baru in enumerate(urutan):\n",
    "        hasil[posisi_baru - 1] = kata_list[i]  # -1 karena urutan dimulai dari 1\n",
    "    return ' '.join(hasil)\n",
    "\n",
    "def ganti_vokal(kalimat, opsi):\n",
    "    hasil = ''\n",
    "    vokal_kecil = {'a': '4', 'i': '1', 'u': '|_|', 'e': '3', 'o': '0'}\n",
    "    vokal_besar = {'A': '4', 'I': '1', 'U': '|_|', 'E': '3', 'O': '0'}\n",
    "\n",
    "    for char in kalimat:\n",
    "        if opsi == 1:\n",
    "            if char in vokal_kecil:\n",
    "                hasil += vokal_kecil[char]\n",
    "            else:\n",
    "                hasil += char\n",
    "        elif opsi == 2:\n",
    "            if char in vokal_besar:\n",
    "                hasil += vokal_besar[char]\n",
    "            else:\n",
    "                hasil += char\n",
    "    return hasil\n",
    "\n",
    "# Uji Program\n",
    "print(reverse_per_kata(\"AKU CINTA KAMU\"))\n",
    "\n",
    "kalimat = \"HARI INI SEDANG BELAJAR PYTHON\"\n",
    "urutan = [2, 5, 4, 3, 1]\n",
    "print(urutkan_kalimat(kalimat, urutan))\n",
    "\n",
    "print(ganti_vokal(\"Aku Cinta Kamu\", 1))\n",
    "\n",
    "print(ganti_vokal(\"Aku Cinta Kamu\", 2))"
   ]
  },
  {
   "cell_type": "code",
   "execution_count": null,
   "id": "62c461cb-2fd7-4c2d-a032-27f6875041ef",
   "metadata": {},
   "outputs": [],
   "source": []
  }
 ],
 "metadata": {
  "kernelspec": {
   "display_name": "Python [conda env:base] *",
   "language": "python",
   "name": "conda-base-py"
  },
  "language_info": {
   "codemirror_mode": {
    "name": "ipython",
    "version": 3
   },
   "file_extension": ".py",
   "mimetype": "text/x-python",
   "name": "python",
   "nbconvert_exporter": "python",
   "pygments_lexer": "ipython3",
   "version": "3.12.7"
  }
 },
 "nbformat": 4,
 "nbformat_minor": 5
}

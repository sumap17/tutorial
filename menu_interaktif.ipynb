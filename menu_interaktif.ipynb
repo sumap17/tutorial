{
 "cells": [
  {
   "cell_type": "markdown",
   "id": "0fae4295",
   "metadata": {},
   "source": [
    "# Program Menu Interaktif (Modular)"
   ]
  },
  {
   "cell_type": "code",
   "execution_count": 2,
   "id": "f943c189",
   "metadata": {},
   "outputs": [],
   "source": [
    "\n",
    "def penjumlahan(a, b):\n",
    "    return a + b\n",
    "\n",
    "def perpangkatan(a, b):\n",
    "    return a ** b\n",
    "\n",
    "def perkalian(a, b):\n",
    "    return a * b\n"
   ]
  },
  {
   "cell_type": "code",
   "execution_count": 4,
   "id": "4593076e",
   "metadata": {},
   "outputs": [],
   "source": [
    "\n",
    "def cm_to_m(cm):\n",
    "    return cm / 100\n",
    "\n",
    "def m_to_cm(m):\n",
    "    return m * 100\n"
   ]
  },
  {
   "cell_type": "code",
   "execution_count": 6,
   "id": "cc7d6763",
   "metadata": {},
   "outputs": [],
   "source": [
    "\n",
    "def desimal_ke_biner(n):\n",
    "    return bin(n)\n",
    "\n",
    "def desimal_ke_oktal(n):\n",
    "    return oct(n)\n",
    "\n",
    "def desimal_ke_hexadesimal(n):\n",
    "    return hex(n)\n"
   ]
  },
  {
   "cell_type": "code",
   "execution_count": 8,
   "id": "d92dd3f8",
   "metadata": {},
   "outputs": [
    {
     "name": "stdout",
     "output_type": "stream",
     "text": [
      "\n",
      "Menu Utama:\n",
      "1. Aritmatika\n",
      "2. Konversi\n",
      "3. Ubah Bilangan\n",
      "4. Keluar\n"
     ]
    },
    {
     "name": "stdin",
     "output_type": "stream",
     "text": [
      "Pilih menu:  1\n"
     ]
    },
    {
     "name": "stdout",
     "output_type": "stream",
     "text": [
      "\n",
      "Sub-Menu Aritmatika:\n",
      "1. Penjumlahan\n",
      "2. Perpangkatan\n",
      "3. Perkalian\n"
     ]
    },
    {
     "name": "stdin",
     "output_type": "stream",
     "text": [
      "Pilih operasi:  1\n",
      "Masukkan bilangan pertama:  5\n",
      "Masukkan bilangan kedua:  5\n"
     ]
    },
    {
     "name": "stdout",
     "output_type": "stream",
     "text": [
      "Hasil: 10.0\n",
      "\n",
      "Menu Utama:\n",
      "1. Aritmatika\n",
      "2. Konversi\n",
      "3. Ubah Bilangan\n",
      "4. Keluar\n"
     ]
    },
    {
     "name": "stdin",
     "output_type": "stream",
     "text": [
      "Pilih menu:  \n"
     ]
    },
    {
     "name": "stdout",
     "output_type": "stream",
     "text": [
      "Pilihan tidak valid.\n",
      "\n",
      "Menu Utama:\n",
      "1. Aritmatika\n",
      "2. Konversi\n",
      "3. Ubah Bilangan\n",
      "4. Keluar\n"
     ]
    },
    {
     "name": "stdin",
     "output_type": "stream",
     "text": [
      "Pilih menu:  2\n"
     ]
    },
    {
     "name": "stdout",
     "output_type": "stream",
     "text": [
      "\n",
      "Sub-Menu Konversi:\n",
      "1. CM to M\n",
      "2. M to CM\n"
     ]
    },
    {
     "name": "stdin",
     "output_type": "stream",
     "text": [
      "Pilih konversi:  1\n",
      "Masukkan nilai desimal:  25\n"
     ]
    },
    {
     "name": "stdout",
     "output_type": "stream",
     "text": [
      "Hasil: 0.25 m\n",
      "\n",
      "Menu Utama:\n",
      "1. Aritmatika\n",
      "2. Konversi\n",
      "3. Ubah Bilangan\n",
      "4. Keluar\n"
     ]
    },
    {
     "name": "stdin",
     "output_type": "stream",
     "text": [
      "Pilih menu:  3\n"
     ]
    },
    {
     "name": "stdout",
     "output_type": "stream",
     "text": [
      "\n",
      "Sub-Menu Ubah Bilangan:\n",
      "1. Desimal ke Biner\n",
      "2. Desimal ke Oktal\n",
      "3. Desimal ke Hexadesimal\n"
     ]
    },
    {
     "name": "stdin",
     "output_type": "stream",
     "text": [
      "Pilih konversi:  2\n",
      "Masukkan bilangan desimal:  5\n"
     ]
    },
    {
     "name": "stdout",
     "output_type": "stream",
     "text": [
      "Hasil: 0o5\n",
      "\n",
      "Menu Utama:\n",
      "1. Aritmatika\n",
      "2. Konversi\n",
      "3. Ubah Bilangan\n",
      "4. Keluar\n"
     ]
    },
    {
     "name": "stdin",
     "output_type": "stream",
     "text": [
      "Pilih menu:  4\n"
     ]
    },
    {
     "name": "stdout",
     "output_type": "stream",
     "text": [
      "Terima kasih.\n"
     ]
    }
   ],
   "source": [
    "\n",
    "import aritmatika\n",
    "import konversi\n",
    "import ubah_bilangan\n",
    "\n",
    "def menu_aritmatika():\n",
    "    print(\"\\nSub-Menu Aritmatika:\")\n",
    "    print(\"1. Penjumlahan\")\n",
    "    print(\"2. Perpangkatan\")\n",
    "    print(\"3. Perkalian\")\n",
    "    pilihan = input(\"Pilih operasi: \")\n",
    "    a = float(input(\"Masukkan bilangan pertama: \"))\n",
    "    b = float(input(\"Masukkan bilangan kedua: \"))\n",
    "\n",
    "    if pilihan == '1':\n",
    "        print(\"Hasil:\", aritmatika.penjumlahan(a, b))\n",
    "    elif pilihan == '2':\n",
    "        print(\"Hasil:\", aritmatika.perpangkatan(a, b))\n",
    "    elif pilihan == '3':\n",
    "        print(\"Hasil:\", aritmatika.perkalian(a, b))\n",
    "    else:\n",
    "        print(\"Pilihan tidak valid.\")\n",
    "\n",
    "def menu_konversi():\n",
    "    print(\"\\nSub-Menu Konversi:\")\n",
    "    print(\"1. CM to M\")\n",
    "    print(\"2. M to CM\")\n",
    "    pilihan = input(\"Pilih konversi: \")\n",
    "    nilai = float(input(\"Masukkan nilai desimal: \"))\n",
    "\n",
    "    if pilihan == '1':\n",
    "        print(\"Hasil:\", konversi.cm_to_m(nilai), \"m\")\n",
    "    elif pilihan == '2':\n",
    "        print(\"Hasil:\", konversi.m_to_cm(nilai), \"cm\")\n",
    "    else:\n",
    "        print(\"Pilihan tidak valid.\")\n",
    "\n",
    "def menu_ubah_bilangan():\n",
    "    print(\"\\nSub-Menu Ubah Bilangan:\")\n",
    "    print(\"1. Desimal ke Biner\")\n",
    "    print(\"2. Desimal ke Oktal\")\n",
    "    print(\"3. Desimal ke Hexadesimal\")\n",
    "    pilihan = input(\"Pilih konversi: \")\n",
    "    nilai = int(input(\"Masukkan bilangan desimal: \"))\n",
    "\n",
    "    if pilihan == '1':\n",
    "        print(\"Hasil:\", ubah_bilangan.desimal_ke_biner(nilai))\n",
    "    elif pilihan == '2':\n",
    "        print(\"Hasil:\", ubah_bilangan.desimal_ke_oktal(nilai))\n",
    "    elif pilihan == '3':\n",
    "        print(\"Hasil:\", ubah_bilangan.desimal_ke_hexadesimal(nilai))\n",
    "    else:\n",
    "        print(\"Pilihan tidak valid.\")\n",
    "\n",
    "def main():\n",
    "    while True:\n",
    "        print(\"\\nMenu Utama:\")\n",
    "        print(\"1. Aritmatika\")\n",
    "        print(\"2. Konversi\")\n",
    "        print(\"3. Ubah Bilangan\")\n",
    "        print(\"4. Keluar\")\n",
    "        pilihan = input(\"Pilih menu: \")\n",
    "\n",
    "        if pilihan == '1':\n",
    "            menu_aritmatika()\n",
    "        elif pilihan == '2':\n",
    "            menu_konversi()\n",
    "        elif pilihan == '3':\n",
    "            menu_ubah_bilangan()\n",
    "        elif pilihan == '4':\n",
    "            print(\"Terima kasih.\")\n",
    "            break\n",
    "        else:\n",
    "            print(\"Pilihan tidak valid.\")\n",
    "\n",
    "if __name__ == \"__main__\":\n",
    "    main()\n"
   ]
  },
  {
   "cell_type": "code",
   "execution_count": null,
   "id": "afbfe77c-9f58-4682-be88-8b41fc5c84fa",
   "metadata": {},
   "outputs": [],
   "source": []
  }
 ],
 "metadata": {
  "kernelspec": {
   "display_name": "Python [conda env:base] *",
   "language": "python",
   "name": "conda-base-py"
  },
  "language_info": {
   "codemirror_mode": {
    "name": "ipython",
    "version": 3
   },
   "file_extension": ".py",
   "mimetype": "text/x-python",
   "name": "python",
   "nbconvert_exporter": "python",
   "pygments_lexer": "ipython3",
   "version": "3.12.7"
  }
 },
 "nbformat": 4,
 "nbformat_minor": 5
}

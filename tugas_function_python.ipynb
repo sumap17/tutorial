{
 "cells": [
  {
   "cell_type": "code",
   "execution_count": 15,
   "id": "45a12ccf",
   "metadata": {},
   "outputs": [
    {
     "name": "stdout",
     "output_type": "stream",
     "text": [
      "UKA ATNIC UMAK\n"
     ]
    },
    {
     "ename": "IndexError",
     "evalue": "list index out of range",
     "output_type": "error",
     "traceback": [
      "\u001b[1;31m---------------------------------------------------------------------------\u001b[0m",
      "\u001b[1;31mIndexError\u001b[0m                                Traceback (most recent call last)",
      "Cell \u001b[1;32mIn[15], line 39\u001b[0m\n\u001b[0;32m     36\u001b[0m \u001b[38;5;28mprint\u001b[39m(reverse_per_kata(\u001b[38;5;124m\"\u001b[39m\u001b[38;5;124mAKU CINTA KAMU\u001b[39m\u001b[38;5;124m\"\u001b[39m))\n\u001b[0;32m     37\u001b[0m \u001b[38;5;66;03m# Output: \"UKA ATNIC UMAK\"\u001b[39;00m\n\u001b[1;32m---> 39\u001b[0m \u001b[38;5;28mprint\u001b[39m(urutkan_kalimat(\u001b[38;5;124m\"\u001b[39m\u001b[38;5;124mHARI INI SEDANG BELAJAR PYTHON\u001b[39m\u001b[38;5;124m\"\u001b[39m, [\u001b[38;5;241m5\u001b[39m, \u001b[38;5;241m1\u001b[39m, \u001b[38;5;241m4\u001b[39m, \u001b[38;5;241m3\u001b[39m, \u001b[38;5;241m2\u001b[39m]))\n\u001b[0;32m     40\u001b[0m \u001b[38;5;66;03m# Output: \"PYTHON HARI BELAJAR SEDANG INI\"\u001b[39;00m\n\u001b[0;32m     42\u001b[0m \u001b[38;5;28mprint\u001b[39m(ganti_vokal(\u001b[38;5;124m\"\u001b[39m\u001b[38;5;124mAku Cinta Kamu\u001b[39m\u001b[38;5;124m\"\u001b[39m, \u001b[38;5;241m1\u001b[39m))\n",
      "Cell \u001b[1;32mIn[15], line 10\u001b[0m, in \u001b[0;36murutkan_kalimat\u001b[1;34m(kalimat, urutan)\u001b[0m\n\u001b[0;32m      8\u001b[0m \u001b[38;5;28;01mdef\u001b[39;00m \u001b[38;5;21murutkan_kalimat\u001b[39m(kalimat, urutan):\n\u001b[0;32m      9\u001b[0m     kata_list \u001b[38;5;241m=\u001b[39m kalimat\u001b[38;5;241m.\u001b[39msplit()\n\u001b[1;32m---> 10\u001b[0m     hasil \u001b[38;5;241m=\u001b[39m [kata_list[i] \u001b[38;5;28;01mfor\u001b[39;00m i \u001b[38;5;129;01min\u001b[39;00m urutan]\n\u001b[0;32m     11\u001b[0m     \u001b[38;5;28;01mreturn\u001b[39;00m \u001b[38;5;124m'\u001b[39m\u001b[38;5;124m \u001b[39m\u001b[38;5;124m'\u001b[39m\u001b[38;5;241m.\u001b[39mjoin(hasil)\n",
      "\u001b[1;31mIndexError\u001b[0m: list index out of range"
     ]
    }
   ],
   "source": [
    "# Fungsi 1: Membalik setiap kata tanpa mengubah urutan katanya\n",
    "def reverse_per_kata(kalimat):\n",
    "    kata_list = kalimat.split()\n",
    "    hasil = [kata[::-1] for kata in kata_list]\n",
    "    return ' '.join(hasil)\n",
    "\n",
    "# Fungsi 2: Mengurutkan kata berdasarkan indeks dari list\n",
    "def urutkan_kalimat(kalimat, urutan):\n",
    "    kata_list = kalimat.split()\n",
    "    hasil = [kata_list[i] for i in urutan]\n",
    "    return ' '.join(hasil)\n",
    "\n",
    "# Fungsi 3: Mengganti huruf vokal dengan simbol tertentu berdasarkan opsi\n",
    "def ganti_vokal(kalimat, opsi):\n",
    "    vokal_kecil = {'a': '4', 'i': '1', 'u': '|_|', 'e': '3', 'o': '0'}\n",
    "    vokal_besar = {'A': '4', 'I': '1', 'U': '|_|', 'E': '3', 'O': '0'}\n",
    "    hasil = ''\n",
    "\n",
    "    for char in kalimat:\n",
    "        if opsi == 1:\n",
    "            if char in vokal_kecil:\n",
    "                hasil += vokal_kecil[char]\n",
    "            else:\n",
    "                hasil += char\n",
    "        elif opsi == 2:\n",
    "            if char in vokal_besar:\n",
    "                hasil += vokal_besar[char]\n",
    "            else:\n",
    "                hasil += char\n",
    "        else:\n",
    "            hasil += char\n",
    "\n",
    "    return hasil\n",
    "\n",
    "# Contoh Uji Program\n",
    "print(reverse_per_kata(\"AKU CINTA KAMU\"))\n",
    "# Output: \"UKA ATNIC UMAK\"\n",
    "\n",
    "print(urutkan_kalimat(\"HARI INI SEDANG BELAJAR PYTHON\", [5, 1, 4, 3, 2]))\n",
    "# Output: \"PYTHON HARI BELAJAR SEDANG INI\"\n",
    "\n",
    "print(ganti_vokal(\"Aku Cinta Kamu\", 1))\n",
    "# Output: \"4k|| C1nt4 K4m||\"\n",
    "\n",
    "print(ganti_vokal(\"Aku Cinta Kamu\", 2))\n",
    "# Output: \"Aku Cinta Kamu\""
   ]
  },
  {
   "cell_type": "code",
   "execution_count": null,
   "id": "fd007ac9-dbe4-45f1-956b-f183109ddbfd",
   "metadata": {},
   "outputs": [],
   "source": []
  }
 ],
 "metadata": {
  "kernelspec": {
   "display_name": "Python [conda env:base] *",
   "language": "python",
   "name": "conda-base-py"
  },
  "language_info": {
   "codemirror_mode": {
    "name": "ipython",
    "version": 3
   },
   "file_extension": ".py",
   "mimetype": "text/x-python",
   "name": "python",
   "nbconvert_exporter": "python",
   "pygments_lexer": "ipython3",
   "version": "3.12.7"
  }
 },
 "nbformat": 4,
 "nbformat_minor": 5
}
